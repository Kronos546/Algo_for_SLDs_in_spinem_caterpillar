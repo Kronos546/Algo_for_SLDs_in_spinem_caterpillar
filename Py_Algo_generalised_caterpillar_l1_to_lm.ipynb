{
 "cells": [
  {
   "cell_type": "code",
   "execution_count": 24,
   "id": "3668da6e",
   "metadata": {},
   "outputs": [
    {
     "name": "stdout",
     "output_type": "stream",
     "text": [
      "[1, 0, 63, 0, 1428, 0, 13692, 0, 51758, 3136, 111202, 31360, 202020, 97216, 252556, 152320, 219289, 319424, 166999, 174720, 29568, 270400]\n"
     ]
    }
   ],
   "source": [
    "from scipy.special import comb\n",
    "\n",
    "# Take input for m (number of spine vertices)\n",
    "m = int(input(\"Enter the number of spine vertices (m): \"))\n",
    "\n",
    "# Take input for l (the number of leaves for each spine vertex)\n",
    "l = []\n",
    "for i in range(m):\n",
    "    leaves = int(input(f\"Enter the number of leaves on spine vertex {i+1}: \"))\n",
    "    l.append(leaves)\n",
    "\n",
    "n = m + sum(l)  # Total number of spine vertices plus all leaves\n",
    "\n",
    "out = [0] * (n + 1)  # Initialize the output list\n",
    "\n",
    "# Loop through 2^m color assignments of spine-vertices\n",
    "for x in range(2 ** m):\n",
    "    spine_coloring = bin(x)[2:]  # Get binary representation of coloring\n",
    "    spine_coloring = '0' * (m - len(spine_coloring)) + spine_coloring  # Pad with leading zeros if needed\n",
    "    \n",
    "    b = {}\n",
    "    # Generate all combinations of black leaves for each spine vertex\n",
    "    for b_values in range(m):\n",
    "        b[b_values] = 0  # Initialize with zero black leaves\n",
    "    \n",
    "    def recursive_black_leaf_combination(vertex, current_combination):\n",
    "        \"\"\" Recursively calculate all possible combinations of black leaves \"\"\"\n",
    "        if vertex == m:\n",
    "            # Calculate Pauli weight for this configuration\n",
    "            k = 0\n",
    "            for i in range(m):\n",
    "                if spine_coloring[i] == '1':\n",
    "                    k += 1 + l[i]  # Spine-i has X  + all its leaves have Z\n",
    "                else:\n",
    "                    k += b[i]  # Spine-i doesn't have X + only black leaves have X\n",
    "                    \n",
    "                    b_of_spine_i = b[i]\n",
    "                    if i > 0:\n",
    "                        b_of_spine_i += int(spine_coloring[i - 1])\n",
    "                    if i < m - 1:\n",
    "                        b_of_spine_i += int(spine_coloring[i + 1])\n",
    "                    \n",
    "                    # Determine if spine-i has Z based on its neighbors\n",
    "                    if b_of_spine_i % 2 == 1:\n",
    "                        k += 1\n",
    "            \n",
    "            # Now k has been computed; update A_k:\n",
    "            combinations = 1\n",
    "            for i in range(m):\n",
    "                combinations *= comb(l[i], b[i])\n",
    "            \n",
    "            out[k] += int(combinations)\n",
    "            return\n",
    "        \n",
    "        # Recursive step: loop over the number of black leaves for the current vertex\n",
    "        for b_value in range(l[vertex] + 1):\n",
    "            b[vertex] = b_value\n",
    "            recursive_black_leaf_combination(vertex + 1, current_combination)\n",
    "    \n",
    "    # Start the recursion with the first spine vertex\n",
    "    recursive_black_leaf_combination(0, b)\n",
    "\n",
    "#print(\"l:\", l)\n",
    "print(out)\n"
   ]
  },
  {
   "cell_type": "code",
   "execution_count": null,
   "id": "c462d744",
   "metadata": {},
   "outputs": [],
   "source": []
  }
 ],
 "metadata": {
  "kernelspec": {
   "display_name": "Python 3",
   "language": "python",
   "name": "python3"
  },
  "language_info": {
   "codemirror_mode": {
    "name": "ipython",
    "version": 3
   },
   "file_extension": ".py",
   "mimetype": "text/x-python",
   "name": "python",
   "nbconvert_exporter": "python",
   "pygments_lexer": "ipython3",
   "version": "3.13.0"
  }
 },
 "nbformat": 4,
 "nbformat_minor": 5
}
